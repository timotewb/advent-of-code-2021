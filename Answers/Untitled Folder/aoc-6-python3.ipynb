{
 "cells": [
  {
   "cell_type": "code",
   "execution_count": 1,
   "id": "f03e8050",
   "metadata": {},
   "outputs": [],
   "source": [
    "input = [2,3,1,3,4,4,1,5,2,3,1,1,4,5,5,3,5,5,4,1,2,1,1,1,1,1,1,4,1,1,1,4,1,3,1,4,1,1,4,1,3,4,5,1,1,5,3,4,3,4,1,5,1,3,1,1,1,3,5,3,2,3,1,5,2,2,1,1,4,1,1,2,2,2,2,3,2,1,2,5,4,1,1,1,5,5,3,1,3,2,2,2,5,1,5,2,4,1,1,3,3,5,2,3,1,2,1,5,1,4,3,5,2,1,5,3,4,4,5,3,1,2,4,3,4,1,3,1,1,2,5,4,3,5,3,2,1,4,1,4,4,2,3,1,1,2,1,1,3,3,3,1,1,2,2,1,1,1,5,1,5,1,4,5,1,5,2,4,3,1,1,3,2,2,1,4,3,1,1,1,3,3,3,4,5,2,3,3,1,3,1,4,1,1,1,2,5,1,4,1,2,4,5,4,1,5,1,5,5,1,5,5,2,5,5,1,4,5,1,1,3,2,5,5,5,4,3,2,5,4,1,1,2,4,4,1,1,1,3,2,1,1,2,1,2,2,3,4,5,4,1,4,5,1,1,5,5,1,4,1,4,4,1,5,3,1,4,3,5,3,1,3,1,4,2,4,5,1,4,1,2,4,1,2,5,1,1,5,1,1,3,1,1,2,3,4,2,4,3,1]"
   ]
  },
  {
   "cell_type": "markdown",
   "id": "fdf8e72d",
   "metadata": {},
   "source": [
    "<h4>Part 1</h4>"
   ]
  },
  {
   "cell_type": "code",
   "execution_count": 2,
   "id": "bb27c1e0",
   "metadata": {},
   "outputs": [],
   "source": [
    "# \"bruteforce\" method with class\n",
    "\n",
    "all_fish = list()\n",
    "\n",
    "class fish:\n",
    "    \n",
    "    def __init__(self):\n",
    "    \n",
    "        self.age = 0\n",
    "\n",
    "    @property\n",
    "    def age_a_day(self):\n",
    "        \n",
    "        if self.age == 0:\n",
    "            \n",
    "            self.age = 6\n",
    "\n",
    "            # if age is now six - spawn\n",
    "            f = fish()\n",
    "            f.age = 8\n",
    "            all_fish.append(f)\n",
    "            \n",
    "        else:\n",
    "            \n",
    "            self.age = self.age -1\n",
    "\n",
    "# define the fish classes\n",
    "for age in input:\n",
    "    \n",
    "    f = fish()\n",
    "    f.age = age\n",
    "    all_fish.append(f)    "
   ]
  },
  {
   "cell_type": "code",
   "execution_count": 3,
   "id": "a0416aa6",
   "metadata": {},
   "outputs": [
    {
     "name": "stdout",
     "output_type": "stream",
     "text": [
      "Day no. 10 Fish count: 752\n",
      "Day no. 20 Fish count: 2009\n",
      "Day no. 30 Fish count: 4609\n",
      "Day no. 40 Fish count: 10511\n",
      "Day no. 50 Fish count: 26405\n",
      "Day no. 60 Fish count: 62227\n",
      "Day no. 70 Fish count: 147974\n",
      "Day no. 80 Fish count: 358214\n"
     ]
    }
   ],
   "source": [
    "# age the fish\n",
    "for d in range(81):\n",
    "    \n",
    "    if d in [10,20,30,40,50,60,70,80]:\n",
    "        \n",
    "        print(f'Day no. {d} Fish count: {len(all_fish)}')\n",
    "    \n",
    "    for i in range(len(all_fish)):\n",
    "        \n",
    "        all_fish[i].age_a_day"
   ]
  },
  {
   "cell_type": "markdown",
   "id": "7d07b9a2",
   "metadata": {},
   "source": [
    "<h4>Part 2</h4>"
   ]
  },
  {
   "cell_type": "code",
   "execution_count": 14,
   "id": "4fafa4d7",
   "metadata": {},
   "outputs": [],
   "source": [
    "import numpy as np\n",
    "from tqdm.notebook import tqdm, trange\n",
    "\n",
    "data = list()\n",
    "\n",
    "input = [2,3,1,3,4,4,1,5,2,3,1,1,4,5,5,3,5,5,4,1,2,1,1,1,1,1,1,4,1,1,1,4,1,3,1,4,1,1,4,1,3,4,5,1,1,5,3,4,3,4,1,5,1,3,1,1,1,3,5,3,2,3,1,5,2,2,1,1,4,1,1,2,2,2,2,3,2,1,2,5,4,1,1,1,5,5,3,1,3,2,2,2,5,1,5,2,4,1,1,3,3,5,2,3,1,2,1,5,1,4,3,5,2,1,5,3,4,4,5,3,1,2,4,3,4,1,3,1,1,2,5,4,3,5,3,2,1,4,1,4,4,2,3,1,1,2,1,1,3,3,3,1,1,2,2,1,1,1,5,1,5,1,4,5,1,5,2,4,3,1,1,3,2,2,1,4,3,1,1,1,3,3,3,4,5,2,3,3,1,3,1,4,1,1,1,2,5,1,4,1,2,4,5,4,1,5,1,5,5,1,5,5,2,5,5,1,4,5,1,1,3,2,5,5,5,4,3,2,5,4,1,1,2,4,4,1,1,1,3,2,1,1,2,1,2,2,3,4,5,4,1,4,5,1,1,5,5,1,4,1,4,4,1,5,3,1,4,3,5,3,1,3,1,4,2,4,5,1,4,1,2,4,1,2,5,1,1,5,1,1,3,1,1,2,3,4,2,4,3,1]\n",
    "fish = np.array(input)"
   ]
  },
  {
   "cell_type": "code",
   "execution_count": null,
   "id": "0b570137",
   "metadata": {},
   "outputs": [
    {
     "data": {
      "application/vnd.jupyter.widget-view+json": {
       "model_id": "4d6ba232feda4e7c863af6138b90b831",
       "version_major": 2,
       "version_minor": 0
      },
      "text/plain": [
       "  0%|          | 0/256 [00:00<?, ?it/s]"
      ]
     },
     "metadata": {},
     "output_type": "display_data"
    },
    {
     "name": "stdout",
     "output_type": "stream",
     "text": [
      "Day no. 50 Fish count: 26405\n",
      "Day no. 100 Fish count: 2037669\n",
      "Day no. 150 Fish count: 157444669\n"
     ]
    }
   ],
   "source": [
    "# age the fish\n",
    "\n",
    "for d in tqdm(range(1, 180+1)):\n",
    "    \n",
    "    # deal with zeros\n",
    "    fish = np.where(fish ==0, 7, fish)\n",
    "    fish = np.where(fish ==10, 7, fish)\n",
    "    \n",
    "    # age a day\n",
    "    fish = fish-1\n",
    "    \n",
    "    # check for sixes       \n",
    "    fish = np.append(fish, np.zeros(len(np.where(fish == 6)[0]))+18)\n",
    "    \n",
    "    if d in [256,200,150,100,50]:\n",
    "        \n",
    "        print(f'Day no. {d} Fish count: {len(fish)}')\n",
    "        \n",
    "    data.append([d,len(fish)])\n",
    "    \n",
    "print(f'Final Fish count: {len(fish)}')"
   ]
  },
  {
   "cell_type": "code",
   "execution_count": null,
   "id": "689b2c94",
   "metadata": {},
   "outputs": [],
   "source": []
  },
  {
   "cell_type": "code",
   "execution_count": null,
   "id": "08954c71",
   "metadata": {},
   "outputs": [],
   "source": []
  },
  {
   "cell_type": "code",
   "execution_count": null,
   "id": "41d6ec94",
   "metadata": {},
   "outputs": [],
   "source": []
  },
  {
   "cell_type": "code",
   "execution_count": null,
   "id": "8644e7c0",
   "metadata": {},
   "outputs": [],
   "source": []
  }
 ],
 "metadata": {
  "kernelspec": {
   "display_name": "Python 3 (ipykernel)",
   "language": "python",
   "name": "python3"
  },
  "language_info": {
   "codemirror_mode": {
    "name": "ipython",
    "version": 3
   },
   "file_extension": ".py",
   "mimetype": "text/x-python",
   "name": "python",
   "nbconvert_exporter": "python",
   "pygments_lexer": "ipython3",
   "version": "3.9.7"
  }
 },
 "nbformat": 4,
 "nbformat_minor": 5
}
