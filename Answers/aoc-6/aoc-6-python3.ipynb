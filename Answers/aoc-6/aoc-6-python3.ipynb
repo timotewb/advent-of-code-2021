{
 "cells": [
  {
   "cell_type": "code",
   "execution_count": 1,
   "id": "f03e8050",
   "metadata": {},
   "outputs": [],
   "source": [
    "input = [2,3,1,3,4,4,1,5,2,3,1,1,4,5,5,3,5,5,4,1,2,1,1,1,1,1,1,4,1,1,1,4,1,3,1,4,1,1,4,1,3,4,5,1,1,5,3,4,3,4,1,5,1,3,1,1,1,3,5,3,2,3,1,5,2,2,1,1,4,1,1,2,2,2,2,3,2,1,2,5,4,1,1,1,5,5,3,1,3,2,2,2,5,1,5,2,4,1,1,3,3,5,2,3,1,2,1,5,1,4,3,5,2,1,5,3,4,4,5,3,1,2,4,3,4,1,3,1,1,2,5,4,3,5,3,2,1,4,1,4,4,2,3,1,1,2,1,1,3,3,3,1,1,2,2,1,1,1,5,1,5,1,4,5,1,5,2,4,3,1,1,3,2,2,1,4,3,1,1,1,3,3,3,4,5,2,3,3,1,3,1,4,1,1,1,2,5,1,4,1,2,4,5,4,1,5,1,5,5,1,5,5,2,5,5,1,4,5,1,1,3,2,5,5,5,4,3,2,5,4,1,1,2,4,4,1,1,1,3,2,1,1,2,1,2,2,3,4,5,4,1,4,5,1,1,5,5,1,4,1,4,4,1,5,3,1,4,3,5,3,1,3,1,4,2,4,5,1,4,1,2,4,1,2,5,1,1,5,1,1,3,1,1,2,3,4,2,4,3,1]"
   ]
  },
  {
   "cell_type": "markdown",
   "id": "fdf8e72d",
   "metadata": {},
   "source": [
    "<h4>Part 1</h4>"
   ]
  },
  {
   "cell_type": "code",
   "execution_count": 2,
   "id": "bb27c1e0",
   "metadata": {},
   "outputs": [],
   "source": [
    "# \"bruteforce\" method with class\n",
    "\n",
    "all_fish = list()\n",
    "\n",
    "class fish:\n",
    "    \n",
    "    def __init__(self):\n",
    "    \n",
    "        self.age = 0\n",
    "\n",
    "    @property\n",
    "    def age_a_day(self):\n",
    "        \n",
    "        if self.age == 0:\n",
    "            \n",
    "            self.age = 6\n",
    "\n",
    "            # if age is now six - spawn\n",
    "            f = fish()\n",
    "            f.age = 8\n",
    "            all_fish.append(f)\n",
    "            \n",
    "        else:\n",
    "            \n",
    "            self.age = self.age -1\n",
    "\n",
    "# define the fish classes\n",
    "for age in input:\n",
    "    \n",
    "    f = fish()\n",
    "    f.age = age\n",
    "    all_fish.append(f)    "
   ]
  },
  {
   "cell_type": "code",
   "execution_count": 3,
   "id": "a0416aa6",
   "metadata": {},
   "outputs": [
    {
     "name": "stdout",
     "output_type": "stream",
     "text": [
      "Day no. 10 Fish count: 752\n",
      "Day no. 20 Fish count: 2009\n",
      "Day no. 30 Fish count: 4609\n",
      "Day no. 40 Fish count: 10511\n",
      "Day no. 50 Fish count: 26405\n",
      "Day no. 60 Fish count: 62227\n",
      "Day no. 70 Fish count: 147974\n",
      "Day no. 80 Fish count: 358214\n"
     ]
    }
   ],
   "source": [
    "# age the fish\n",
    "for d in range(81):\n",
    "    \n",
    "    if d in [10,20,30,40,50,60,70,80]:\n",
    "        \n",
    "        print(f'Day no. {d} Fish count: {len(all_fish)}')\n",
    "    \n",
    "    for i in range(len(all_fish)):\n",
    "        \n",
    "        all_fish[i].age_a_day"
   ]
  },
  {
   "cell_type": "markdown",
   "id": "7d07b9a2",
   "metadata": {},
   "source": [
    "<h4>Part 2</h4>"
   ]
  },
  {
   "cell_type": "code",
   "execution_count": 63,
   "id": "4fafa4d7",
   "metadata": {},
   "outputs": [
    {
     "data": {
      "application/vnd.jupyter.widget-view+json": {
       "model_id": "0d2c01537a304d78b0e9219bdcf99fe5",
       "version_major": 2,
       "version_minor": 0
      },
      "text/plain": [
       "  0%|          | 0/80 [00:00<?, ?it/s]"
      ]
     },
     "metadata": {},
     "output_type": "display_data"
    },
    {
     "name": "stdout",
     "output_type": "stream",
     "text": [
      "Day no. 50 Fish count: 26405\n",
      "Final Fish count: 358214\n"
     ]
    }
   ],
   "source": [
    "# try do it with numpy and write out data to file\n",
    "\n",
    "import numpy as np\n",
    "from tqdm.notebook import tqdm, trange\n",
    "\n",
    "input = [2,3,1,3,4,4,1,5,2,3,1,1,4,5,5,3,5,5,4,1,2,1,1,1,1,1,1,4,1,1,1,4,1,3,1,4,1,1,4,1,3,4,5,1,1,5,3,4,3,4,1,5,1,3,1,1,1,3,5,3,2,3,1,5,2,2,1,1,4,1,1,2,2,2,2,3,2,1,2,5,4,1,1,1,5,5,3,1,3,2,2,2,5,1,5,2,4,1,1,3,3,5,2,3,1,2,1,5,1,4,3,5,2,1,5,3,4,4,5,3,1,2,4,3,4,1,3,1,1,2,5,4,3,5,3,2,1,4,1,4,4,2,3,1,1,2,1,1,3,3,3,1,1,2,2,1,1,1,5,1,5,1,4,5,1,5,2,4,3,1,1,3,2,2,1,4,3,1,1,1,3,3,3,4,5,2,3,3,1,3,1,4,1,1,1,2,5,1,4,1,2,4,5,4,1,5,1,5,5,1,5,5,2,5,5,1,4,5,1,1,3,2,5,5,5,4,3,2,5,4,1,1,2,4,4,1,1,1,3,2,1,1,2,1,2,2,3,4,5,4,1,4,5,1,1,5,5,1,4,1,4,4,1,5,3,1,4,3,5,3,1,3,1,4,2,4,5,1,4,1,2,4,1,2,5,1,1,5,1,1,3,1,1,2,3,4,2,4,3,1]\n",
    "fish = np.array(input)\n",
    "\n",
    "# age the fish\n",
    "for d in tqdm(range(1, 256+1)):\n",
    "    \n",
    "    # deal with zeros\n",
    "    fish = np.where(fish ==0, 7, fish)\n",
    "    fish = np.where(fish ==10, 7, fish)\n",
    "    \n",
    "    # age a day\n",
    "    fish = fish-1\n",
    "    \n",
    "    # check for sixes       \n",
    "    fish = np.append(fish, np.zeros(len(np.where(fish == 6)[0]))+18)\n",
    "    \n",
    "    if d in [256,200,150,100,50]:\n",
    "        \n",
    "        print(f'Day no. {d} Fish count: {len(fish)}')\n",
    "        \n",
    "    f = open('data_pt2.csv', 'a')\n",
    "    f.write(f'{d},{len(fish)}\\n')\n",
    "    f.close()\n",
    "    \n",
    "print(f'Final Fish count: {len(fish)}')"
   ]
  },
  {
   "cell_type": "code",
   "execution_count": 2,
   "id": "8644e7c0",
   "metadata": {},
   "outputs": [
    {
     "data": {
      "application/vnd.jupyter.widget-view+json": {
       "model_id": "c98dbc0f9f534ff6b00080ecd5d475bf",
       "version_major": 2,
       "version_minor": 0
      },
      "text/plain": [
       "  0%|          | 0/256 [00:00<?, ?it/s]"
      ]
     },
     "metadata": {},
     "output_type": "display_data"
    },
    {
     "ename": "KeyboardInterrupt",
     "evalue": "",
     "output_type": "error",
     "traceback": [
      "\u001b[1;31m---------------------------------------------------------------------------\u001b[0m",
      "\u001b[1;31mKeyboardInterrupt\u001b[0m                         Traceback (most recent call last)",
      "\u001b[1;32m<ipython-input-2-0b4c86322a54>\u001b[0m in \u001b[0;36m<module>\u001b[1;34m\u001b[0m\n\u001b[0;32m     30\u001b[0m \u001b[1;33m\u001b[0m\u001b[0m\n\u001b[0;32m     31\u001b[0m         \u001b[1;31m# check for sixes\u001b[0m\u001b[1;33m\u001b[0m\u001b[1;33m\u001b[0m\u001b[1;33m\u001b[0m\u001b[0m\n\u001b[1;32m---> 32\u001b[1;33m         \u001b[0mfish\u001b[0m \u001b[1;33m=\u001b[0m \u001b[0mnp\u001b[0m\u001b[1;33m.\u001b[0m\u001b[0mappend\u001b[0m\u001b[1;33m(\u001b[0m\u001b[0mfish\u001b[0m\u001b[1;33m,\u001b[0m \u001b[0mnp\u001b[0m\u001b[1;33m.\u001b[0m\u001b[0mzeros\u001b[0m\u001b[1;33m(\u001b[0m\u001b[0mlen\u001b[0m\u001b[1;33m(\u001b[0m\u001b[0mnp\u001b[0m\u001b[1;33m.\u001b[0m\u001b[0mwhere\u001b[0m\u001b[1;33m(\u001b[0m\u001b[0mfish\u001b[0m \u001b[1;33m==\u001b[0m \u001b[1;36m6\u001b[0m\u001b[1;33m)\u001b[0m\u001b[1;33m[\u001b[0m\u001b[1;36m0\u001b[0m\u001b[1;33m]\u001b[0m\u001b[1;33m)\u001b[0m\u001b[1;33m)\u001b[0m\u001b[1;33m+\u001b[0m\u001b[1;36m18\u001b[0m\u001b[1;33m)\u001b[0m\u001b[1;33m\u001b[0m\u001b[1;33m\u001b[0m\u001b[0m\n\u001b[0m\u001b[0;32m     33\u001b[0m \u001b[1;33m\u001b[0m\u001b[0m\n\u001b[0;32m     34\u001b[0m     \u001b[0mfinal_fish_count\u001b[0m \u001b[1;33m=\u001b[0m \u001b[0mfinal_fish_count\u001b[0m \u001b[1;33m+\u001b[0m \u001b[0mlen\u001b[0m\u001b[1;33m(\u001b[0m\u001b[0mfish\u001b[0m\u001b[1;33m)\u001b[0m\u001b[1;33m\u001b[0m\u001b[1;33m\u001b[0m\u001b[0m\n",
      "\u001b[1;31mKeyboardInterrupt\u001b[0m: "
     ]
    }
   ],
   "source": [
    "# chop it into blocks\n",
    "\n",
    "import numpy as np\n",
    "from tqdm.notebook import tqdm, trange\n",
    "\n",
    "final_fish_count = 0\n",
    "\n",
    "input = [2,3,1,3,4,4,1,5,2,3,1,1,4,5,5,3,5,5,4,1,2,1,1,1,1,1,1,4,1,1,1,4,1,3,1,4,1,1,4,1,3,4,5,1,1,5,3,4,3,4,1,5,1,3,1,1,1,3,5,3,2,3,1,5,2,2,1,1,4,1,1,2,2,2,2,3,2,1,2,5,4,1,1,1,5,5,3,1,3,2,2,2,5,1,5,2,4,1,1,3,3,5,2,3,1,2,1,5,1,4,3,5,2,1,5,3,4,4,5,3,1,2,4,3,4,1,3,1,1,2,5,4,3,5,3,2,1,4,1,4,4,2,3,1,1,2,1,1,3,3,3,1,1,2,2,1,1,1,5,1,5,1,4,5,1,5,2,4,3,1,1,3,2,2,1,4,3,1,1,1,3,3,3,4,5,2,3,3,1,3,1,4,1,1,1,2,5,1,4,1,2,4,5,4,1,5,1,5,5,1,5,5,2,5,5,1,4,5,1,1,3,2,5,5,5,4,3,2,5,4,1,1,2,4,4,1,1,1,3,2,1,1,2,1,2,2,3,4,5,4,1,4,5,1,1,5,5,1,4,1,4,4,1,5,3,1,4,3,5,3,1,3,1,4,2,4,5,1,4,1,2,4,1,2,5,1,1,5,1,1,3,1,1,2,3,4,2,4,3,1]\n",
    "\n",
    "def block(l, n):\n",
    "    \n",
    "    for i in range(0, len(l), n): \n",
    "        yield l[i:i + n]\n",
    "\n",
    "block_input = block(input, 1)\n",
    "\n",
    "for b in block_input:\n",
    "\n",
    "    fish = np.array(b)\n",
    "\n",
    "    # age the fish\n",
    "    for d in tqdm(range(1, 256+1)):\n",
    "\n",
    "        # deal with zeros\n",
    "        fish = np.where(fish ==0, 7, fish)\n",
    "        fish = np.where(fish ==10, 7, fish)\n",
    "\n",
    "        # age a day\n",
    "        fish = fish-1\n",
    "\n",
    "        # check for sixes       \n",
    "        fish = np.append(fish, np.zeros(len(np.where(fish == 6)[0]))+18)\n",
    "\n",
    "    final_fish_count = final_fish_count + len(fish)\n",
    "    print(f'Block Fish count: {len(fish)}')\n",
    "\n",
    "print(f'Final Fish count: {final_fish_count}')"
   ]
  },
  {
   "cell_type": "code",
   "execution_count": 8,
   "id": "bba18ec7",
   "metadata": {},
   "outputs": [],
   "source": [
    "input = [[2,10],[3,5],[1,3]]\n",
    "fish = np.array(input, np.int32)\n",
    "\n",
    "minus = [[1,0],[1,0],[1,0]]"
   ]
  },
  {
   "cell_type": "code",
   "execution_count": 9,
   "id": "ea3eb09c",
   "metadata": {},
   "outputs": [
    {
     "data": {
      "text/plain": [
       "array([[ 1, 10],\n",
       "       [ 2,  5],\n",
       "       [ 0,  3]])"
      ]
     },
     "execution_count": 9,
     "metadata": {},
     "output_type": "execute_result"
    }
   ],
   "source": [
    "fish-minus"
   ]
  },
  {
   "cell_type": "code",
   "execution_count": 57,
   "id": "bc627ee9",
   "metadata": {},
   "outputs": [],
   "source": [
    "input = [2,3,1,3,4,4,1,5,2,3,1,1,4,5,5,3,5,5,4,1,2,1,1,1]\n",
    "unique, counts = np.unique(input, return_counts=True)\n",
    "\n",
    "fish = np.array(list(zip(unique, counts)), np.int32)\n",
    "\n",
    "# append zeros for 8-6\n",
    "new_fish =  np.array([[6,0],[7,0],[8,0]], np.int32)\n",
    "\n",
    "fish = np.concatenate((fish, new_fish))\n",
    "\n",
    "minus = list()\n",
    "for row in fish:\n",
    "    \n",
    "    minus.append([1,0])\n",
    "    \n",
    "minus = np.array(minus)"
   ]
  },
  {
   "cell_type": "code",
   "execution_count": 58,
   "id": "eb98f2fa",
   "metadata": {},
   "outputs": [
    {
     "data": {
      "text/plain": [
       "array([[1, 0],\n",
       "       [1, 0],\n",
       "       [1, 0],\n",
       "       [1, 0],\n",
       "       [1, 0],\n",
       "       [1, 0],\n",
       "       [1, 0],\n",
       "       [1, 0]])"
      ]
     },
     "execution_count": 58,
     "metadata": {},
     "output_type": "execute_result"
    }
   ],
   "source": [
    "minus"
   ]
  },
  {
   "cell_type": "code",
   "execution_count": 59,
   "id": "70fb526c",
   "metadata": {},
   "outputs": [
    {
     "data": {
      "text/plain": [
       "array([[1, 8],\n",
       "       [2, 3],\n",
       "       [3, 4],\n",
       "       [4, 4],\n",
       "       [5, 5],\n",
       "       [6, 0],\n",
       "       [7, 0],\n",
       "       [8, 0]])"
      ]
     },
     "execution_count": 59,
     "metadata": {},
     "output_type": "execute_result"
    }
   ],
   "source": [
    "fish"
   ]
  },
  {
   "cell_type": "code",
   "execution_count": 46,
   "id": "2a0c0b8a",
   "metadata": {},
   "outputs": [],
   "source": [
    "# check for zeros\n",
    "fish[list(zip(*np.where(fish == 0)))[0]] = 7"
   ]
  },
  {
   "cell_type": "code",
   "execution_count": 43,
   "id": "22592948",
   "metadata": {},
   "outputs": [
    {
     "data": {
      "text/plain": [
       "array([[6, 0],\n",
       "       [7, 0],\n",
       "       [8, 0]])"
      ]
     },
     "execution_count": 43,
     "metadata": {},
     "output_type": "execute_result"
    }
   ],
   "source": [
    "new_fish"
   ]
  },
  {
   "cell_type": "code",
   "execution_count": 52,
   "id": "650774c3",
   "metadata": {},
   "outputs": [
    {
     "data": {
      "text/plain": [
       "array([[1, 8],\n",
       "       [2, 3],\n",
       "       [3, 4],\n",
       "       [4, 4],\n",
       "       [5, 5]])"
      ]
     },
     "execution_count": 52,
     "metadata": {},
     "output_type": "execute_result"
    }
   ],
   "source": [
    "fish"
   ]
  },
  {
   "cell_type": "code",
   "execution_count": 53,
   "id": "5b767969",
   "metadata": {},
   "outputs": [
    {
     "data": {
      "text/plain": [
       "array([[6, 0],\n",
       "       [7, 0],\n",
       "       [8, 0]])"
      ]
     },
     "execution_count": 53,
     "metadata": {},
     "output_type": "execute_result"
    }
   ],
   "source": [
    "new_fish"
   ]
  },
  {
   "cell_type": "code",
   "execution_count": null,
   "id": "c8223097",
   "metadata": {},
   "outputs": [],
   "source": []
  }
 ],
 "metadata": {
  "kernelspec": {
   "display_name": "Python 3",
   "language": "python",
   "name": "python3"
  },
  "language_info": {
   "codemirror_mode": {
    "name": "ipython",
    "version": 3
   },
   "file_extension": ".py",
   "mimetype": "text/x-python",
   "name": "python",
   "nbconvert_exporter": "python",
   "pygments_lexer": "ipython3",
   "version": "3.8.8"
  }
 },
 "nbformat": 4,
 "nbformat_minor": 5
}
