{
 "cells": [
  {
   "cell_type": "code",
   "execution_count": 1,
   "id": "f03e8050",
   "metadata": {},
   "outputs": [],
   "source": [
    "input = [2,3,1,3,4,4,1,5,2,3,1,1,4,5,5,3,5,5,4,1,2,1,1,1,1,1,1,4,1,1,1,4,1,3,1,4,1,1,4,1,3,4,5,1,1,5,3,4,3,4,1,5,1,3,1,1,1,3,5,3,2,3,1,5,2,2,1,1,4,1,1,2,2,2,2,3,2,1,2,5,4,1,1,1,5,5,3,1,3,2,2,2,5,1,5,2,4,1,1,3,3,5,2,3,1,2,1,5,1,4,3,5,2,1,5,3,4,4,5,3,1,2,4,3,4,1,3,1,1,2,5,4,3,5,3,2,1,4,1,4,4,2,3,1,1,2,1,1,3,3,3,1,1,2,2,1,1,1,5,1,5,1,4,5,1,5,2,4,3,1,1,3,2,2,1,4,3,1,1,1,3,3,3,4,5,2,3,3,1,3,1,4,1,1,1,2,5,1,4,1,2,4,5,4,1,5,1,5,5,1,5,5,2,5,5,1,4,5,1,1,3,2,5,5,5,4,3,2,5,4,1,1,2,4,4,1,1,1,3,2,1,1,2,1,2,2,3,4,5,4,1,4,5,1,1,5,5,1,4,1,4,4,1,5,3,1,4,3,5,3,1,3,1,4,2,4,5,1,4,1,2,4,1,2,5,1,1,5,1,1,3,1,1,2,3,4,2,4,3,1]"
   ]
  },
  {
   "cell_type": "markdown",
   "id": "fdf8e72d",
   "metadata": {},
   "source": [
    "<h4>Part 1</h4>"
   ]
  },
  {
   "cell_type": "code",
   "execution_count": 2,
   "id": "bb27c1e0",
   "metadata": {},
   "outputs": [],
   "source": [
    "# \"bruteforce\" method with class\n",
    "\n",
    "all_fish = list()\n",
    "\n",
    "class fish:\n",
    "    \n",
    "    def __init__(self):\n",
    "    \n",
    "        self.age = 0\n",
    "\n",
    "    @property\n",
    "    def age_a_day(self):\n",
    "        \n",
    "        if self.age == 0:\n",
    "            \n",
    "            self.age = 6\n",
    "\n",
    "            # if age is now six - spawn\n",
    "            f = fish()\n",
    "            f.age = 8\n",
    "            all_fish.append(f)\n",
    "            \n",
    "        else:\n",
    "            \n",
    "            self.age = self.age -1\n",
    "\n",
    "# define the fish classes\n",
    "for age in input:\n",
    "    \n",
    "    f = fish()\n",
    "    f.age = age\n",
    "    all_fish.append(f)    "
   ]
  },
  {
   "cell_type": "code",
   "execution_count": 3,
   "id": "a0416aa6",
   "metadata": {},
   "outputs": [
    {
     "name": "stdout",
     "output_type": "stream",
     "text": [
      "Day no. 10 Fish count: 752\n",
      "Day no. 20 Fish count: 2009\n",
      "Day no. 30 Fish count: 4609\n",
      "Day no. 40 Fish count: 10511\n",
      "Day no. 50 Fish count: 26405\n",
      "Day no. 60 Fish count: 62227\n",
      "Day no. 70 Fish count: 147974\n",
      "Day no. 80 Fish count: 358214\n"
     ]
    }
   ],
   "source": [
    "# age the fish\n",
    "for d in range(81):\n",
    "    \n",
    "    if d in [10,20,30,40,50,60,70,80]:\n",
    "        \n",
    "        print(f'Day no. {d} Fish count: {len(all_fish)}')\n",
    "    \n",
    "    for i in range(len(all_fish)):\n",
    "        \n",
    "        all_fish[i].age_a_day"
   ]
  },
  {
   "cell_type": "markdown",
   "id": "7d07b9a2",
   "metadata": {},
   "source": [
    "<h4>Part 2</h4>"
   ]
  },
  {
   "cell_type": "code",
   "execution_count": 63,
   "id": "4fafa4d7",
   "metadata": {},
   "outputs": [
    {
     "data": {
      "application/vnd.jupyter.widget-view+json": {
       "model_id": "0d2c01537a304d78b0e9219bdcf99fe5",
       "version_major": 2,
       "version_minor": 0
      },
      "text/plain": [
       "  0%|          | 0/80 [00:00<?, ?it/s]"
      ]
     },
     "metadata": {},
     "output_type": "display_data"
    },
    {
     "name": "stdout",
     "output_type": "stream",
     "text": [
      "Day no. 50 Fish count: 26405\n",
      "Final Fish count: 358214\n"
     ]
    }
   ],
   "source": [
    "# try do it with numpy and write out data to file\n",
    "\n",
    "import numpy as np\n",
    "from tqdm.notebook import tqdm, trange\n",
    "\n",
    "input = [2,3,1,3,4,4,1,5,2,3,1,1,4,5,5,3,5,5,4,1,2,1,1,1,1,1,1,4,1,1,1,4,1,3,1,4,1,1,4,1,3,4,5,1,1,5,3,4,3,4,1,5,1,3,1,1,1,3,5,3,2,3,1,5,2,2,1,1,4,1,1,2,2,2,2,3,2,1,2,5,4,1,1,1,5,5,3,1,3,2,2,2,5,1,5,2,4,1,1,3,3,5,2,3,1,2,1,5,1,4,3,5,2,1,5,3,4,4,5,3,1,2,4,3,4,1,3,1,1,2,5,4,3,5,3,2,1,4,1,4,4,2,3,1,1,2,1,1,3,3,3,1,1,2,2,1,1,1,5,1,5,1,4,5,1,5,2,4,3,1,1,3,2,2,1,4,3,1,1,1,3,3,3,4,5,2,3,3,1,3,1,4,1,1,1,2,5,1,4,1,2,4,5,4,1,5,1,5,5,1,5,5,2,5,5,1,4,5,1,1,3,2,5,5,5,4,3,2,5,4,1,1,2,4,4,1,1,1,3,2,1,1,2,1,2,2,3,4,5,4,1,4,5,1,1,5,5,1,4,1,4,4,1,5,3,1,4,3,5,3,1,3,1,4,2,4,5,1,4,1,2,4,1,2,5,1,1,5,1,1,3,1,1,2,3,4,2,4,3,1]\n",
    "fish = np.array(input)\n",
    "\n",
    "# age the fish\n",
    "for d in tqdm(range(1, 256+1)):\n",
    "    \n",
    "    # deal with zeros\n",
    "    fish = np.where(fish ==0, 7, fish)\n",
    "    fish = np.where(fish ==10, 7, fish)\n",
    "    \n",
    "    # age a day\n",
    "    fish = fish-1\n",
    "    \n",
    "    # check for sixes       \n",
    "    fish = np.append(fish, np.zeros(len(np.where(fish == 6)[0]))+18)\n",
    "    \n",
    "    if d in [256,200,150,100,50]:\n",
    "        \n",
    "        print(f'Day no. {d} Fish count: {len(fish)}')\n",
    "        \n",
    "    f = open('data_pt2.csv', 'a')\n",
    "    f.write(f'{d},{len(fish)}\\n')\n",
    "    f.close()\n",
    "    \n",
    "print(f'Final Fish count: {len(fish)}')"
   ]
  },
  {
   "cell_type": "code",
   "execution_count": 1,
   "id": "8644e7c0",
   "metadata": {},
   "outputs": [
    {
     "data": {
      "application/vnd.jupyter.widget-view+json": {
       "model_id": "6282b4f88a1b458da1afca01dbd38ab9",
       "version_major": 2,
       "version_minor": 0
      },
      "text/plain": [
       "  0%|          | 0/256 [00:00<?, ?it/s]"
      ]
     },
     "metadata": {},
     "output_type": "display_data"
    },
    {
     "ename": "KeyboardInterrupt",
     "evalue": "",
     "output_type": "error",
     "traceback": [
      "\u001b[1;31m---------------------------------------------------------------------------\u001b[0m",
      "\u001b[1;31mKeyboardInterrupt\u001b[0m                         Traceback (most recent call last)",
      "\u001b[1;32m<ipython-input-1-e2765c49eb8d>\u001b[0m in \u001b[0;36m<module>\u001b[1;34m\u001b[0m\n\u001b[0;32m     24\u001b[0m         \u001b[1;31m# deal with zeros\u001b[0m\u001b[1;33m\u001b[0m\u001b[1;33m\u001b[0m\u001b[1;33m\u001b[0m\u001b[0m\n\u001b[0;32m     25\u001b[0m         \u001b[0mfish\u001b[0m \u001b[1;33m=\u001b[0m \u001b[0mnp\u001b[0m\u001b[1;33m.\u001b[0m\u001b[0mwhere\u001b[0m\u001b[1;33m(\u001b[0m\u001b[0mfish\u001b[0m \u001b[1;33m==\u001b[0m\u001b[1;36m0\u001b[0m\u001b[1;33m,\u001b[0m \u001b[1;36m7\u001b[0m\u001b[1;33m,\u001b[0m \u001b[0mfish\u001b[0m\u001b[1;33m)\u001b[0m\u001b[1;33m\u001b[0m\u001b[1;33m\u001b[0m\u001b[0m\n\u001b[1;32m---> 26\u001b[1;33m         \u001b[0mfish\u001b[0m \u001b[1;33m=\u001b[0m \u001b[0mnp\u001b[0m\u001b[1;33m.\u001b[0m\u001b[0mwhere\u001b[0m\u001b[1;33m(\u001b[0m\u001b[0mfish\u001b[0m \u001b[1;33m==\u001b[0m\u001b[1;36m10\u001b[0m\u001b[1;33m,\u001b[0m \u001b[1;36m7\u001b[0m\u001b[1;33m,\u001b[0m \u001b[0mfish\u001b[0m\u001b[1;33m)\u001b[0m\u001b[1;33m\u001b[0m\u001b[1;33m\u001b[0m\u001b[0m\n\u001b[0m\u001b[0;32m     27\u001b[0m \u001b[1;33m\u001b[0m\u001b[0m\n\u001b[0;32m     28\u001b[0m         \u001b[1;31m# age a day\u001b[0m\u001b[1;33m\u001b[0m\u001b[1;33m\u001b[0m\u001b[1;33m\u001b[0m\u001b[0m\n",
      "\u001b[1;31mKeyboardInterrupt\u001b[0m: "
     ]
    }
   ],
   "source": [
    "# chop it into blocks\n",
    "\n",
    "import numpy as np\n",
    "from tqdm.notebook import tqdm, trange\n",
    "\n",
    "final_fish_count = 0\n",
    "\n",
    "input = [2,3,1,3,4,4,1,5,2,3,1,1,4,5,5,3,5,5,4,1,2,1,1,1,1,1,1,4,1,1,1,4,1,3,1,4,1,1,4,1,3,4,5,1,1,5,3,4,3,4,1,5,1,3,1,1,1,3,5,3,2,3,1,5,2,2,1,1,4,1,1,2,2,2,2,3,2,1,2,5,4,1,1,1,5,5,3,1,3,2,2,2,5,1,5,2,4,1,1,3,3,5,2,3,1,2,1,5,1,4,3,5,2,1,5,3,4,4,5,3,1,2,4,3,4,1,3,1,1,2,5,4,3,5,3,2,1,4,1,4,4,2,3,1,1,2,1,1,3,3,3,1,1,2,2,1,1,1,5,1,5,1,4,5,1,5,2,4,3,1,1,3,2,2,1,4,3,1,1,1,3,3,3,4,5,2,3,3,1,3,1,4,1,1,1,2,5,1,4,1,2,4,5,4,1,5,1,5,5,1,5,5,2,5,5,1,4,5,1,1,3,2,5,5,5,4,3,2,5,4,1,1,2,4,4,1,1,1,3,2,1,1,2,1,2,2,3,4,5,4,1,4,5,1,1,5,5,1,4,1,4,4,1,5,3,1,4,3,5,3,1,3,1,4,2,4,5,1,4,1,2,4,1,2,5,1,1,5,1,1,3,1,1,2,3,4,2,4,3,1]\n",
    "\n",
    "def block(l, n):\n",
    "    \n",
    "    for i in range(0, len(l), n): \n",
    "        yield l[i:i + n]\n",
    "\n",
    "block_input = block(input, 5)\n",
    "\n",
    "for b in block_input:\n",
    "\n",
    "    fish = np.array(b)\n",
    "\n",
    "    # age the fish\n",
    "    for d in tqdm(range(1, 256+1)):\n",
    "\n",
    "        # deal with zeros\n",
    "        fish = np.where(fish ==0, 7, fish)\n",
    "        fish = np.where(fish ==10, 7, fish)\n",
    "\n",
    "        # age a day\n",
    "        fish = fish-1\n",
    "\n",
    "        # check for sixes       \n",
    "        fish = np.append(fish, np.zeros(len(np.where(fish == 6)[0]))+18)\n",
    "\n",
    "    final_fish_count = final_fish_count + len(fish)\n",
    "    print(f'Block Fish count: {len(fish)}')\n",
    "    \n",
    "\n",
    "print(f'Final Fish count: {final_fish_count}')"
   ]
  },
  {
   "cell_type": "code",
   "execution_count": null,
   "id": "bba18ec7",
   "metadata": {},
   "outputs": [],
   "source": []
  },
  {
   "cell_type": "code",
   "execution_count": 61,
   "id": "ea3eb09c",
   "metadata": {},
   "outputs": [
    {
     "name": "stdout",
     "output_type": "stream",
     "text": [
      "Fitted Parameters: [ 2.99470036e+04 -3.64321389e+06  7.05661152e+07]\n",
      "Single value prediction: 59905996.53725651\n",
      "RMSE: 58631932.20549132\n",
      "R-squared: 0.6911556967063365\n",
      "\n"
     ]
    },
    {
     "data": {
      "image/png": "[encoded data removed]",
      "text/plain": [
       "<Figure size 800x600 with 1 Axes>"
      ]
     },
     "metadata": {
      "needs_background": "light"
     },
     "output_type": "display_data"
    }
   ],
   "source": [
    "# # try with code from\n",
    "# # https://stackoverflow.com/questions/58123415/how-to-predict-value\n",
    "\n",
    "# import numpy, matplotlib\n",
    "# import matplotlib.pyplot as plt\n",
    "\n",
    "# xData = x\n",
    "# yData = y\n",
    "\n",
    "\n",
    "# polynomialOrder = 2 # example quadratic equation\n",
    "\n",
    "\n",
    "# # curve fit the test data\n",
    "# fittedParameters = numpy.polyfit(xData, yData, polynomialOrder)\n",
    "# print('Fitted Parameters:', fittedParameters)\n",
    "\n",
    "# # predict a single value\n",
    "# print('Single value prediction:', numpy.polyval(fittedParameters, 3.0))\n",
    "\n",
    "# # Use polyval to find model predictions\n",
    "# modelPredictions = numpy.polyval(fittedParameters, xData)\n",
    "# absError = modelPredictions - yData\n",
    "\n",
    "# SE = numpy.square(absError) # squared errors\n",
    "# MSE = numpy.mean(SE) # mean squared errors\n",
    "# RMSE = numpy.sqrt(MSE) # Root Mean Squared Error, RMSE\n",
    "# Rsquared = 1.0 - (numpy.var(absError) / numpy.var(yData))\n",
    "# print('RMSE:', RMSE)\n",
    "# print('R-squared:', Rsquared)\n",
    "\n",
    "# print()\n",
    "\n",
    "\n",
    "# ##########################################################\n",
    "# # graphics output section\n",
    "# def ModelAndScatterPlot(graphWidth, graphHeight):\n",
    "#     f = plt.figure(figsize=(graphWidth/100.0, graphHeight/100.0), dpi=100)\n",
    "#     axes = f.add_subplot(111)\n",
    "\n",
    "#     # first the raw data as a scatter plot\n",
    "#     axes.plot(xData, yData,  'D')\n",
    "\n",
    "#     # create data for the fitted equation plot\n",
    "#     xModel = numpy.linspace(min(xData), max(xData))\n",
    "#     yModel = numpy.polyval(fittedParameters, xModel)\n",
    "\n",
    "#     # now the model as a line plot\n",
    "#     axes.plot(xModel, yModel)\n",
    "\n",
    "#     axes.set_title('numpy.polyval example') # add a title\n",
    "#     axes.set_xlabel('X Data') # X axis data label\n",
    "#     axes.set_ylabel('Y Data') # Y axis data label\n",
    "\n",
    "#     plt.show()\n",
    "#     plt.close('all') # clean up after using pyplot\n",
    "\n",
    "# graphWidth = 800\n",
    "# graphHeight = 600\n",
    "# ModelAndScatterPlot(graphWidth, graphHeight)"
   ]
  },
  {
   "cell_type": "code",
   "execution_count": null,
   "id": "bc627ee9",
   "metadata": {},
   "outputs": [],
   "source": []
  }
 ],
 "metadata": {
  "kernelspec": {
   "display_name": "Python 3",
   "language": "python",
   "name": "python3"
  },
  "language_info": {
   "codemirror_mode": {
    "name": "ipython",
    "version": 3
   },
   "file_extension": ".py",
   "mimetype": "text/x-python",
   "name": "python",
   "nbconvert_exporter": "python",
   "pygments_lexer": "ipython3",
   "version": "3.8.8"
  }
 },
 "nbformat": 4,
 "nbformat_minor": 5
}
